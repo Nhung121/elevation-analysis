{
 "cells": [
  {
   "cell_type": "markdown",
   "metadata": {},
   "source": [
    "# comparison of projected wetland areas in different scenarios over time"
   ]
  },
  {
   "cell_type": "code",
   "execution_count": 6,
   "metadata": {},
   "outputs": [],
   "source": [
    "import os, glob\n",
    "import pandas as pd"
   ]
  },
  {
   "cell_type": "code",
   "execution_count": 7,
   "metadata": {},
   "outputs": [
    {
     "data": {
      "text/plain": [
       "['./data/ADEM/protected/Landuse_ADEM_2050_RCP45_P.xlsx',\n",
       " './data/ADEM/protected/Landuse_ADEM_2011_RCP45_P.xlsx',\n",
       " './data/ADEM/protected/Landuse_ADEM_2075_RCP45_P.xlsx',\n",
       " './data/ADEM/protected/Landuse_ADEM_2100_RCP45_P.xlsx',\n",
       " './data/ADEM/protected/Landuse_ADEM_2025_RCP45_P.xlsx']"
      ]
     },
     "execution_count": 7,
     "metadata": {},
     "output_type": "execute_result"
    }
   ],
   "source": [
    "files = glob.glob('./data/ADEM/protected/*RCP45*')\n",
    "files"
   ]
  },
  {
   "cell_type": "code",
   "execution_count": null,
   "metadata": {},
   "outputs": [],
   "source": [
    "for file in files:\n",
    "    df = pd.read_excel(file)"
   ]
  },
  {
   "cell_type": "code",
   "execution_count": 16,
   "metadata": {},
   "outputs": [],
   "source": [
    "index_to_land_use_mapping = {\n",
    "    \"VALUE_1\": \"Developed Dry Land\",\n",
    "    \"VALUE_2\": \"Undeveloped Dry Land\",\n",
    "    \"VALUE_3\": \"Non-tidal Swamp\",\n",
    "    \"VALUE_4\": \"Cypress Swamp\",\n",
    "    \"VALUE_5\": \"Inland Fresh Marsh\",\n",
    "    \"VALUE_6\": \"Tidal Fresh Marsh\",\n",
    "    \"VALUE_7\": \"Trans Salt Marsh\",\n",
    "    \"VALUE_8\": \"Regularly Flooded Marsh\",\n",
    "    \"VALUE_9\": \"Mangrove\",\n",
    "    \"VALUE_10\": \"Estuarine Beach\",\n",
    "    \"VALUE_11\": \"Tidal Flat\",\n",
    "    \"VALUE_12\": \"Ocean Beach\",\n",
    "    \"VALUE_13\": \"Ocean Flat\",\n",
    "    \"VALUE_14\": \"Rocky Intertidal\",\n",
    "    \"VALUE_15\": \"Inland Open Water\",\n",
    "    \"VALUE_16\": \"Riverine Tidal\",\n",
    "    \"VALUE_17\": \"Estuarine Open Water\",\n",
    "    \"VALUE_18\": \"Tidal Creek\",\n",
    "    \"VALUE_19\": \"Open Ocean\",\n",
    "    \"VALUE_20\": \"Irreg Flooded Marsh\",\n",
    "    \"VALUE_21\": \"Not Used\",\n",
    "    \"VALUE_22\": \"Inland Shore\",\n",
    "    \"VALUE_23\": \"Tidal Swamp\"\n",
    "}\n",
    "\n",
    "MANGROVE_CATEGORIES   = [\"Trans Salt Marsh\", \"Mangrove\", \"Estuarine Beach\"]\n",
    "TIDAL_FLAT_CATEGORIES = [\"Regularly Flooded Marsh\", \"Estuarine Beach\", \"Tidal Flat\", \"Tidal Swamp\"]\n",
    "REEF_CATEGORIES       = [\"Ocean Flat\", \"Rocky Intertidal\"]"
   ]
  },
  {
   "cell_type": "code",
   "execution_count": 23,
   "metadata": {},
   "outputs": [
    {
     "data": {
      "text/plain": [
       "9850600"
      ]
     },
     "execution_count": 23,
     "metadata": {},
     "output_type": "execute_result"
    }
   ],
   "source": [
    "_df = df.rename(columns=index_to_land_use_mapping)\n",
    "_df[MANGROVE_CATEGORIES]"
   ]
  },
  {
   "cell_type": "code",
   "execution_count": null,
   "metadata": {},
   "outputs": [],
   "source": []
  }
 ],
 "metadata": {
  "kernelspec": {
   "display_name": ".elevation-analysis",
   "language": "python",
   "name": ".elevation-analysis"
  },
  "language_info": {
   "codemirror_mode": {
    "name": "ipython",
    "version": 3
   },
   "file_extension": ".py",
   "mimetype": "text/x-python",
   "name": "python",
   "nbconvert_exporter": "python",
   "pygments_lexer": "ipython3",
   "version": "3.7.3"
  }
 },
 "nbformat": 4,
 "nbformat_minor": 2
}
